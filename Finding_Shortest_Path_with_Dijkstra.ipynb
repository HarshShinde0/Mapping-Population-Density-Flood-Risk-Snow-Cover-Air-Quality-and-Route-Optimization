{
  "nbformat": 4,
  "nbformat_minor": 0,
  "metadata": {
    "colab": {
      "provenance": []
    },
    "kernelspec": {
      "name": "python3",
      "display_name": "Python 3"
    },
    "language_info": {
      "name": "python"
    }
  },
  "cells": [
    {
      "cell_type": "code",
      "execution_count": 1,
      "metadata": {
        "colab": {
          "base_uri": "https://localhost:8080/"
        },
        "id": "Z-mudoUv7FFN",
        "outputId": "0e1936c1-9e54-4c9c-db5d-f1a2306efc7f"
      },
      "outputs": [
        {
          "output_type": "stream",
          "name": "stdout",
          "text": [
            "Requirement already satisfied: folium in /usr/local/lib/python3.10/dist-packages (0.17.0)\n",
            "Requirement already satisfied: branca>=0.6.0 in /usr/local/lib/python3.10/dist-packages (from folium) (0.7.2)\n",
            "Requirement already satisfied: jinja2>=2.9 in /usr/local/lib/python3.10/dist-packages (from folium) (3.1.4)\n",
            "Requirement already satisfied: numpy in /usr/local/lib/python3.10/dist-packages (from folium) (1.26.4)\n",
            "Requirement already satisfied: requests in /usr/local/lib/python3.10/dist-packages (from folium) (2.32.3)\n",
            "Requirement already satisfied: xyzservices in /usr/local/lib/python3.10/dist-packages (from folium) (2024.9.0)\n",
            "Requirement already satisfied: MarkupSafe>=2.0 in /usr/local/lib/python3.10/dist-packages (from jinja2>=2.9->folium) (2.1.5)\n",
            "Requirement already satisfied: charset-normalizer<4,>=2 in /usr/local/lib/python3.10/dist-packages (from requests->folium) (3.3.2)\n",
            "Requirement already satisfied: idna<4,>=2.5 in /usr/local/lib/python3.10/dist-packages (from requests->folium) (3.10)\n",
            "Requirement already satisfied: urllib3<3,>=1.21.1 in /usr/local/lib/python3.10/dist-packages (from requests->folium) (2.0.7)\n",
            "Requirement already satisfied: certifi>=2017.4.17 in /usr/local/lib/python3.10/dist-packages (from requests->folium) (2024.8.30)\n"
          ]
        }
      ],
      "source": [
        "!pip install folium"
      ]
    },
    {
      "cell_type": "code",
      "source": [
        "import heapq\n",
        "import folium\n",
        "from folium.plugins import HeatMap\n",
        "import itertools"
      ],
      "metadata": {
        "id": "Mxqg6qez7vKg"
      },
      "execution_count": 2,
      "outputs": []
    },
    {
      "cell_type": "code",
      "source": [
        "# Define coordinates\n",
        "barclays_center_coordinates = (40.6826, -73.9754)\n",
        "nyu_coordinates = (40.7291, -73.9965)\n",
        "empire_state_building_coordinates = (40.748817, -73.985428)\n",
        "ny_hall_of_science_coordinates = (40.7472, -73.8515)\n",
        "queens_college_coordinates = (40.7365, -73.8205)"
      ],
      "metadata": {
        "id": "U2mlG8Dl7wpo"
      },
      "execution_count": 3,
      "outputs": []
    },
    {
      "cell_type": "code",
      "source": [
        "# Create graph with distances\n",
        "graph = {\n",
        "    'Barclays Center': [('NYU', 3.5), ('Empire State Building', 5.2), ('New York Hall of Science', 8.1), ('Queens College', 9.7)],\n",
        "    'NYU': [('Barclays Center', 3.5), ('Empire State Building', 1.1), ('New York Hall of Science', 7.4), ('Queens College', 8.3)],\n",
        "    'Empire State Building': [('Barclays Center', 5.2), ('NYU', 1.1), ('New York Hall of Science', 6.5), ('Queens College', 7.2)],\n",
        "    'New York Hall of Science': [('Barclays Center', 8.1), ('NYU', 7.4), ('Empire State Building', 6.5), ('Queens College', 2.7)],\n",
        "    'Queens College': [('Barclays Center', 9.7), ('NYU', 8.3), ('Empire State Building', 7.2), ('New York Hall of Science', 2.7)]\n",
        "}"
      ],
      "metadata": {
        "id": "bKEDSbD67x81"
      },
      "execution_count": 4,
      "outputs": []
    },
    {
      "cell_type": "code",
      "source": [
        "# Function to find the shortest path\n",
        "def find_shortest_path(graph, nodes):\n",
        "    all_paths = itertools.permutations(nodes)\n",
        "    shortest_path = None\n",
        "    min_distance = float('inf')\n",
        "    for path in all_paths:\n",
        "        total_distance = 0\n",
        "        valid_path = True\n",
        "        for i in range(len(path) - 1):\n",
        "            current_node = path[i]\n",
        "            next_node = path[i + 1]\n",
        "            found_edge = False\n",
        "            for neighbor, weight in graph[current_node]:\n",
        "                if neighbor == next_node:\n",
        "                    total_distance += weight\n",
        "                    found_edge = True\n",
        "                    break\n",
        "            if not found_edge:\n",
        "                valid_path = False\n",
        "                break\n",
        "        if valid_path and path[0] == 'Barclays Center' and path[-1] == 'Queens College' and total_distance < min_distance:\n",
        "            min_distance = total_distance\n",
        "            shortest_path = path\n",
        "    return shortest_path, min_distance"
      ],
      "metadata": {
        "id": "shXFy89y7zG5"
      },
      "execution_count": 5,
      "outputs": []
    },
    {
      "cell_type": "code",
      "source": [
        "# Define nodes to visit\n",
        "nodes_to_visit = ['Barclays Center', 'NYU', 'Empire State Building', 'New York Hall of Science', 'Queens College']"
      ],
      "metadata": {
        "id": "SuYi5EME71ZF"
      },
      "execution_count": 6,
      "outputs": []
    },
    {
      "cell_type": "code",
      "source": [
        "# Find the shortest path\n",
        "shortest_path, total_distance = find_shortest_path(graph, nodes_to_visit)\n",
        "print(\"Shortest Path:\", shortest_path)\n",
        "print(\"Total Distance:\", total_distance)"
      ],
      "metadata": {
        "colab": {
          "base_uri": "https://localhost:8080/"
        },
        "id": "rOsZ1-VW73IF",
        "outputId": "632302c9-e28d-4d5f-a008-e927db162627"
      },
      "execution_count": 7,
      "outputs": [
        {
          "output_type": "stream",
          "name": "stdout",
          "text": [
            "Shortest Path: ('Barclays Center', 'NYU', 'Empire State Building', 'New York Hall of Science', 'Queens College')\n",
            "Total Distance: 13.8\n"
          ]
        }
      ]
    },
    {
      "cell_type": "code",
      "source": [
        "# Define coordinates for the map\n",
        "coordinates = {\n",
        "    'Barclays Center': barclays_center_coordinates,\n",
        "    'NYU': nyu_coordinates,\n",
        "    'Empire State Building': empire_state_building_coordinates,\n",
        "    'New York Hall of Science': ny_hall_of_science_coordinates,\n",
        "    'Queens College': queens_college_coordinates\n",
        "}"
      ],
      "metadata": {
        "id": "mQvKCelw74am"
      },
      "execution_count": 8,
      "outputs": []
    },
    {
      "cell_type": "code",
      "source": [
        "# Create the map\n",
        "map_center = coordinates['Barclays Center']\n",
        "mymap = folium.Map(location=map_center, zoom_start=12)\n",
        "for node, coord in coordinates.items():\n",
        "    folium.Marker(coord, popup=node).add_to(mymap)"
      ],
      "metadata": {
        "id": "g8w-J5kY76G4"
      },
      "execution_count": 9,
      "outputs": []
    },
    {
      "cell_type": "code",
      "source": [
        "# Draw the path on the map\n",
        "path_coordinates = [coordinates[node] for node in shortest_path]\n",
        "folium.PolyLine(locations=path_coordinates, color='blue', weight=5, opacity=0.7).add_to(mymap)\n",
        "\n",
        "# Save the map\n",
        "mymap.save(\"shortest_path.html\")\n",
        "mymap"
      ],
      "metadata": {
        "id": "SyywG85T77av",
        "outputId": "647ae0f0-eba0-4852-d58c-18b85c7889bf",
        "colab": {
          "base_uri": "https://localhost:8080/",
          "height": 865
        }
      },
      "execution_count": 11,
      "outputs": [
        {
          "output_type": "execute_result",
          "data": {
            "text/plain": [
              "<folium.folium.Map at 0x7c2968112d70>"
            ],
            "text/html": [
              "<div style=\"width:100%;\"><div style=\"position:relative;width:100%;height:0;padding-bottom:60%;\"><span style=\"color:#565656\">Make this Notebook Trusted to load map: File -> Trust Notebook</span><iframe srcdoc=\"&lt;!DOCTYPE html&gt;\n",
              "&lt;html&gt;\n",
              "&lt;head&gt;\n",
              "    \n",
              "    &lt;meta http-equiv=&quot;content-type&quot; content=&quot;text/html; charset=UTF-8&quot; /&gt;\n",
              "    \n",
              "        &lt;script&gt;\n",
              "            L_NO_TOUCH = false;\n",
              "            L_DISABLE_3D = false;\n",
              "        &lt;/script&gt;\n",
              "    \n",
              "    &lt;style&gt;html, body {width: 100%;height: 100%;margin: 0;padding: 0;}&lt;/style&gt;\n",
              "    &lt;style&gt;#map {position:absolute;top:0;bottom:0;right:0;left:0;}&lt;/style&gt;\n",
              "    &lt;script src=&quot;https://cdn.jsdelivr.net/npm/leaflet@1.9.3/dist/leaflet.js&quot;&gt;&lt;/script&gt;\n",
              "    &lt;script src=&quot;https://code.jquery.com/jquery-3.7.1.min.js&quot;&gt;&lt;/script&gt;\n",
              "    &lt;script src=&quot;https://cdn.jsdelivr.net/npm/bootstrap@5.2.2/dist/js/bootstrap.bundle.min.js&quot;&gt;&lt;/script&gt;\n",
              "    &lt;script src=&quot;https://cdnjs.cloudflare.com/ajax/libs/Leaflet.awesome-markers/2.0.2/leaflet.awesome-markers.js&quot;&gt;&lt;/script&gt;\n",
              "    &lt;link rel=&quot;stylesheet&quot; href=&quot;https://cdn.jsdelivr.net/npm/leaflet@1.9.3/dist/leaflet.css&quot;/&gt;\n",
              "    &lt;link rel=&quot;stylesheet&quot; href=&quot;https://cdn.jsdelivr.net/npm/bootstrap@5.2.2/dist/css/bootstrap.min.css&quot;/&gt;\n",
              "    &lt;link rel=&quot;stylesheet&quot; href=&quot;https://netdna.bootstrapcdn.com/bootstrap/3.0.0/css/bootstrap-glyphicons.css&quot;/&gt;\n",
              "    &lt;link rel=&quot;stylesheet&quot; href=&quot;https://cdn.jsdelivr.net/npm/@fortawesome/fontawesome-free@6.2.0/css/all.min.css&quot;/&gt;\n",
              "    &lt;link rel=&quot;stylesheet&quot; href=&quot;https://cdnjs.cloudflare.com/ajax/libs/Leaflet.awesome-markers/2.0.2/leaflet.awesome-markers.css&quot;/&gt;\n",
              "    &lt;link rel=&quot;stylesheet&quot; href=&quot;https://cdn.jsdelivr.net/gh/python-visualization/folium/folium/templates/leaflet.awesome.rotate.min.css&quot;/&gt;\n",
              "    \n",
              "            &lt;meta name=&quot;viewport&quot; content=&quot;width=device-width,\n",
              "                initial-scale=1.0, maximum-scale=1.0, user-scalable=no&quot; /&gt;\n",
              "            &lt;style&gt;\n",
              "                #map_208589aa2e3258da857ff5129663230e {\n",
              "                    position: relative;\n",
              "                    width: 100.0%;\n",
              "                    height: 100.0%;\n",
              "                    left: 0.0%;\n",
              "                    top: 0.0%;\n",
              "                }\n",
              "                .leaflet-container { font-size: 1rem; }\n",
              "            &lt;/style&gt;\n",
              "        \n",
              "&lt;/head&gt;\n",
              "&lt;body&gt;\n",
              "    \n",
              "    \n",
              "            &lt;div class=&quot;folium-map&quot; id=&quot;map_208589aa2e3258da857ff5129663230e&quot; &gt;&lt;/div&gt;\n",
              "        \n",
              "&lt;/body&gt;\n",
              "&lt;script&gt;\n",
              "    \n",
              "    \n",
              "            var map_208589aa2e3258da857ff5129663230e = L.map(\n",
              "                &quot;map_208589aa2e3258da857ff5129663230e&quot;,\n",
              "                {\n",
              "                    center: [40.6826, -73.9754],\n",
              "                    crs: L.CRS.EPSG3857,\n",
              "                    zoom: 12,\n",
              "                    zoomControl: true,\n",
              "                    preferCanvas: false,\n",
              "                }\n",
              "            );\n",
              "\n",
              "            \n",
              "\n",
              "        \n",
              "    \n",
              "            var tile_layer_6a4f3762656fed2065971822ef4c1ec9 = L.tileLayer(\n",
              "                &quot;https://tile.openstreetmap.org/{z}/{x}/{y}.png&quot;,\n",
              "                {&quot;attribution&quot;: &quot;\\u0026copy; \\u003ca href=\\&quot;https://www.openstreetmap.org/copyright\\&quot;\\u003eOpenStreetMap\\u003c/a\\u003e contributors&quot;, &quot;detectRetina&quot;: false, &quot;maxNativeZoom&quot;: 19, &quot;maxZoom&quot;: 19, &quot;minZoom&quot;: 0, &quot;noWrap&quot;: false, &quot;opacity&quot;: 1, &quot;subdomains&quot;: &quot;abc&quot;, &quot;tms&quot;: false}\n",
              "            );\n",
              "        \n",
              "    \n",
              "            tile_layer_6a4f3762656fed2065971822ef4c1ec9.addTo(map_208589aa2e3258da857ff5129663230e);\n",
              "        \n",
              "    \n",
              "            var marker_b440a1c774b761af283bea59b3d8172a = L.marker(\n",
              "                [40.6826, -73.9754],\n",
              "                {}\n",
              "            ).addTo(map_208589aa2e3258da857ff5129663230e);\n",
              "        \n",
              "    \n",
              "        var popup_dbd874ae9184389b04c39f8e69cc31d8 = L.popup({&quot;maxWidth&quot;: &quot;100%&quot;});\n",
              "\n",
              "        \n",
              "            \n",
              "                var html_0c66427913c1446db8fda28873f02f28 = $(`&lt;div id=&quot;html_0c66427913c1446db8fda28873f02f28&quot; style=&quot;width: 100.0%; height: 100.0%;&quot;&gt;Barclays Center&lt;/div&gt;`)[0];\n",
              "                popup_dbd874ae9184389b04c39f8e69cc31d8.setContent(html_0c66427913c1446db8fda28873f02f28);\n",
              "            \n",
              "        \n",
              "\n",
              "        marker_b440a1c774b761af283bea59b3d8172a.bindPopup(popup_dbd874ae9184389b04c39f8e69cc31d8)\n",
              "        ;\n",
              "\n",
              "        \n",
              "    \n",
              "    \n",
              "            var marker_c5fd0eb054f443ca59c24939badd06c9 = L.marker(\n",
              "                [40.7291, -73.9965],\n",
              "                {}\n",
              "            ).addTo(map_208589aa2e3258da857ff5129663230e);\n",
              "        \n",
              "    \n",
              "        var popup_70fdd71e2bdd533961ac80e06da19e8a = L.popup({&quot;maxWidth&quot;: &quot;100%&quot;});\n",
              "\n",
              "        \n",
              "            \n",
              "                var html_ab532c93e439a6494b341bc688ff23a5 = $(`&lt;div id=&quot;html_ab532c93e439a6494b341bc688ff23a5&quot; style=&quot;width: 100.0%; height: 100.0%;&quot;&gt;NYU&lt;/div&gt;`)[0];\n",
              "                popup_70fdd71e2bdd533961ac80e06da19e8a.setContent(html_ab532c93e439a6494b341bc688ff23a5);\n",
              "            \n",
              "        \n",
              "\n",
              "        marker_c5fd0eb054f443ca59c24939badd06c9.bindPopup(popup_70fdd71e2bdd533961ac80e06da19e8a)\n",
              "        ;\n",
              "\n",
              "        \n",
              "    \n",
              "    \n",
              "            var marker_a0b9cd1d9de892b6a31d490de3b11a38 = L.marker(\n",
              "                [40.748817, -73.985428],\n",
              "                {}\n",
              "            ).addTo(map_208589aa2e3258da857ff5129663230e);\n",
              "        \n",
              "    \n",
              "        var popup_78025035eb2068471e5fd1fc6a25a683 = L.popup({&quot;maxWidth&quot;: &quot;100%&quot;});\n",
              "\n",
              "        \n",
              "            \n",
              "                var html_73f051a63e1350a5dc926f9952e0aaf4 = $(`&lt;div id=&quot;html_73f051a63e1350a5dc926f9952e0aaf4&quot; style=&quot;width: 100.0%; height: 100.0%;&quot;&gt;Empire State Building&lt;/div&gt;`)[0];\n",
              "                popup_78025035eb2068471e5fd1fc6a25a683.setContent(html_73f051a63e1350a5dc926f9952e0aaf4);\n",
              "            \n",
              "        \n",
              "\n",
              "        marker_a0b9cd1d9de892b6a31d490de3b11a38.bindPopup(popup_78025035eb2068471e5fd1fc6a25a683)\n",
              "        ;\n",
              "\n",
              "        \n",
              "    \n",
              "    \n",
              "            var marker_0b94348ecec28434ed05b7a0ad658bcc = L.marker(\n",
              "                [40.7472, -73.8515],\n",
              "                {}\n",
              "            ).addTo(map_208589aa2e3258da857ff5129663230e);\n",
              "        \n",
              "    \n",
              "        var popup_32814761b110cc7f6859886100a8fa15 = L.popup({&quot;maxWidth&quot;: &quot;100%&quot;});\n",
              "\n",
              "        \n",
              "            \n",
              "                var html_da87bef638f619221e3f2858a0b67d0e = $(`&lt;div id=&quot;html_da87bef638f619221e3f2858a0b67d0e&quot; style=&quot;width: 100.0%; height: 100.0%;&quot;&gt;New York Hall of Science&lt;/div&gt;`)[0];\n",
              "                popup_32814761b110cc7f6859886100a8fa15.setContent(html_da87bef638f619221e3f2858a0b67d0e);\n",
              "            \n",
              "        \n",
              "\n",
              "        marker_0b94348ecec28434ed05b7a0ad658bcc.bindPopup(popup_32814761b110cc7f6859886100a8fa15)\n",
              "        ;\n",
              "\n",
              "        \n",
              "    \n",
              "    \n",
              "            var marker_209d980cb1184596e7ea714d83d3a710 = L.marker(\n",
              "                [40.7365, -73.8205],\n",
              "                {}\n",
              "            ).addTo(map_208589aa2e3258da857ff5129663230e);\n",
              "        \n",
              "    \n",
              "        var popup_6072312e46ffed5cd9b9dc721bbd6907 = L.popup({&quot;maxWidth&quot;: &quot;100%&quot;});\n",
              "\n",
              "        \n",
              "            \n",
              "                var html_47810f9baa5af158369f435e0aa624cc = $(`&lt;div id=&quot;html_47810f9baa5af158369f435e0aa624cc&quot; style=&quot;width: 100.0%; height: 100.0%;&quot;&gt;Queens College&lt;/div&gt;`)[0];\n",
              "                popup_6072312e46ffed5cd9b9dc721bbd6907.setContent(html_47810f9baa5af158369f435e0aa624cc);\n",
              "            \n",
              "        \n",
              "\n",
              "        marker_209d980cb1184596e7ea714d83d3a710.bindPopup(popup_6072312e46ffed5cd9b9dc721bbd6907)\n",
              "        ;\n",
              "\n",
              "        \n",
              "    \n",
              "    \n",
              "            var poly_line_ad5a1e0c63674a14145543b4c98127ae = L.polyline(\n",
              "                [[40.6826, -73.9754], [40.7291, -73.9965], [40.748817, -73.985428], [40.7472, -73.8515], [40.7365, -73.8205]],\n",
              "                {&quot;bubblingMouseEvents&quot;: true, &quot;color&quot;: &quot;blue&quot;, &quot;dashArray&quot;: null, &quot;dashOffset&quot;: null, &quot;fill&quot;: false, &quot;fillColor&quot;: &quot;blue&quot;, &quot;fillOpacity&quot;: 0.2, &quot;fillRule&quot;: &quot;evenodd&quot;, &quot;lineCap&quot;: &quot;round&quot;, &quot;lineJoin&quot;: &quot;round&quot;, &quot;noClip&quot;: false, &quot;opacity&quot;: 0.7, &quot;smoothFactor&quot;: 1.0, &quot;stroke&quot;: true, &quot;weight&quot;: 5}\n",
              "            ).addTo(map_208589aa2e3258da857ff5129663230e);\n",
              "        \n",
              "    \n",
              "            var poly_line_e973dedf4dc9b74736b2e2868ef20a89 = L.polyline(\n",
              "                [[40.6826, -73.9754], [40.7291, -73.9965], [40.748817, -73.985428], [40.7472, -73.8515], [40.7365, -73.8205]],\n",
              "                {&quot;bubblingMouseEvents&quot;: true, &quot;color&quot;: &quot;blue&quot;, &quot;dashArray&quot;: null, &quot;dashOffset&quot;: null, &quot;fill&quot;: false, &quot;fillColor&quot;: &quot;blue&quot;, &quot;fillOpacity&quot;: 0.2, &quot;fillRule&quot;: &quot;evenodd&quot;, &quot;lineCap&quot;: &quot;round&quot;, &quot;lineJoin&quot;: &quot;round&quot;, &quot;noClip&quot;: false, &quot;opacity&quot;: 0.7, &quot;smoothFactor&quot;: 1.0, &quot;stroke&quot;: true, &quot;weight&quot;: 5}\n",
              "            ).addTo(map_208589aa2e3258da857ff5129663230e);\n",
              "        \n",
              "    \n",
              "            tile_layer_6a4f3762656fed2065971822ef4c1ec9.addTo(map_208589aa2e3258da857ff5129663230e);\n",
              "        \n",
              "&lt;/script&gt;\n",
              "&lt;/html&gt;\" style=\"position:absolute;width:100%;height:100%;left:0;top:0;border:none !important;\" allowfullscreen webkitallowfullscreen mozallowfullscreen></iframe></div></div>"
            ]
          },
          "metadata": {},
          "execution_count": 11
        }
      ]
    }
  ]
}