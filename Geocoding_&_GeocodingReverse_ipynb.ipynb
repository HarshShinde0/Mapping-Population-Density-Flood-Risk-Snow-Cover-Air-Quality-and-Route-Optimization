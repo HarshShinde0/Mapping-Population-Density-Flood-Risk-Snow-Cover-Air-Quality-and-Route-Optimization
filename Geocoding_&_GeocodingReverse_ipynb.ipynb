{
  "nbformat": 4,
  "nbformat_minor": 0,
  "metadata": {
    "colab": {
      "provenance": []
    },
    "kernelspec": {
      "name": "python3",
      "display_name": "Python 3"
    },
    "language_info": {
      "name": "python"
    }
  },
  "cells": [
    {
      "cell_type": "code",
      "execution_count": 1,
      "metadata": {
        "colab": {
          "base_uri": "https://localhost:8080/"
        },
        "id": "iRRpuZAuyf50",
        "outputId": "04ce3860-d75a-4495-b770-18e887b32882"
      },
      "outputs": [
        {
          "output_type": "stream",
          "name": "stdout",
          "text": [
            "Requirement already satisfied: geopy in /usr/local/lib/python3.10/dist-packages (2.4.1)\n",
            "Requirement already satisfied: geographiclib<3,>=1.52 in /usr/local/lib/python3.10/dist-packages (from geopy) (2.0)\n"
          ]
        }
      ],
      "source": [
        "# Install geopy for geocoding functionality\n",
        "!pip install geopy"
      ]
    },
    {
      "cell_type": "code",
      "source": [
        "# Import necessary modules\n",
        "from geopy.geocoders import Nominatim"
      ],
      "metadata": {
        "id": "Zq4Kji1Ly0eO"
      },
      "execution_count": 2,
      "outputs": []
    },
    {
      "cell_type": "code",
      "source": [
        "# Geocoding example\n",
        "geolocator = Nominatim(user_agent=\"geo_coder\")\n",
        "address = \"1600 Amphitheatre Pkwy, Mountain View, CA 94043, USA\"\n",
        "try:\n",
        "    location = geolocator.geocode(address)\n",
        "    if location:\n",
        "        print(f\"Address: {address}\")\n",
        "        print(f\"Latitude: {location.latitude}, Longitude: {location.longitude}\")\n",
        "    else:\n",
        "        print(f\"Geocoding failed for address: {address}\")\n",
        "except Exception as e:\n",
        "    print(f\"Error: {e}\")"
      ],
      "metadata": {
        "colab": {
          "base_uri": "https://localhost:8080/"
        },
        "id": "v1YXc3s1y4os",
        "outputId": "22a14ace-003e-47b8-e8e7-754ecf64bda1"
      },
      "execution_count": 3,
      "outputs": [
        {
          "output_type": "stream",
          "name": "stdout",
          "text": [
            "Address: 1600 Amphitheatre Pkwy, Mountain View, CA 94043, USA\n",
            "Latitude: 37.4217636, Longitude: -122.084614\n"
          ]
        }
      ]
    },
    {
      "cell_type": "code",
      "source": [
        "# Reverse geocoding example\n",
        "geolocator = Nominatim(user_agent=\"geo_coder\")\n",
        "\n",
        "latitude = 37.4219999\n",
        "longitude = -122.0840575\n",
        "\n",
        "try:\n",
        "    location = geolocator.reverse((latitude, longitude), exactly_one=True)\n",
        "    if location:\n",
        "        print(f\"Latitude: {latitude}, Longitude: {longitude}\")\n",
        "        print(f\"Address: {location.address}\")\n",
        "    else:\n",
        "        print(f\"No address found for coordinates: Latitude {latitude}, Longitude {longitude}\")\n",
        "except Exception as e:\n",
        "    print(f\"Error: {e}\")"
      ],
      "metadata": {
        "colab": {
          "base_uri": "https://localhost:8080/"
        },
        "id": "41M_Wwzvy6FG",
        "outputId": "b662c9c5-0d71-48a1-c62e-06411c618910"
      },
      "execution_count": 4,
      "outputs": [
        {
          "output_type": "stream",
          "name": "stdout",
          "text": [
            "Latitude: 37.4219999, Longitude: -122.0840575\n",
            "Address: Amphitheatre Parkway, Mountain View, Santa Clara County, California, 94043, United States\n"
          ]
        }
      ]
    }
  ]
}