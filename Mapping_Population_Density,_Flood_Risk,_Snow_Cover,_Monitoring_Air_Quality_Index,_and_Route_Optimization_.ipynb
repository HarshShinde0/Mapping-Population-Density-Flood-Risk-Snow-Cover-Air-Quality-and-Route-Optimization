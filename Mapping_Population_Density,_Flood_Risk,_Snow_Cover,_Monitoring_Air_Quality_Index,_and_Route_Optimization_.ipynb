{
  "nbformat": 4,
  "nbformat_minor": 0,
  "metadata": {
    "colab": {
      "provenance": []
    },
    "kernelspec": {
      "name": "python3",
      "display_name": "Python 3"
    },
    "language_info": {
      "name": "python"
    },
    "widgets": {
      "application/vnd.jupyter.widget-state+json": {
        "e611566609f24ce391949bd84887419c": {
          "model_module": "jupyter-leaflet",
          "model_name": "LeafletMapModel",
          "model_module_version": "^0.19",
          "state": {
            "_dom_classes": [],
            "_model_module": "jupyter-leaflet",
            "_model_module_version": "^0.19",
            "_model_name": "LeafletMapModel",
            "_view_count": null,
            "_view_module": "jupyter-leaflet",
            "_view_module_version": "^0.19",
            "_view_name": "LeafletMapView",
            "bottom": 712,
            "bounce_at_zoom_limits": true,
            "box_zoom": true,
            "center": [
              0,
              0
            ],
            "close_popup_on_click": true,
            "controls": [
              "IPY_MODEL_1cdaa70a56734e399568c52440dda033",
              "IPY_MODEL_656ea13a3bd34d70bfddd8855d32d03e",
              "IPY_MODEL_06a82d357f744a0ead8e10abd712325b"
            ],
            "crs": {
              "name": "EPSG3857",
              "custom": false
            },
            "default_style": "IPY_MODEL_b1d19c6d9cf442b38073089bc58f901b",
            "double_click_zoom": true,
            "dragging": true,
            "dragging_style": "IPY_MODEL_b5a300eca6f04650a36623dc1d854f82",
            "east": 247.85156250000003,
            "fullscreen": false,
            "inertia": true,
            "inertia_deceleration": 3000,
            "inertia_max_speed": 1500,
            "interpolation": "bilinear",
            "keyboard": true,
            "keyboard_pan_offset": 80,
            "keyboard_zoom_offset": 1,
            "layers": [
              "IPY_MODEL_4a35f2c876884b25ab3984d006a81e7d",
              "IPY_MODEL_74b50fbebbe84c7492e7e62d82a79ac2"
            ],
            "layout": "IPY_MODEL_e3804b351e02492081e882d3f2efaa7f",
            "left": -192,
            "max_zoom": null,
            "min_zoom": null,
            "modisdate": "2024-09-21",
            "north": 57.326521225217064,
            "options": [
              "bounce_at_zoom_limits",
              "box_zoom",
              "center",
              "close_popup_on_click",
              "double_click_zoom",
              "dragging",
              "fullscreen",
              "inertia",
              "inertia_deceleration",
              "inertia_max_speed",
              "interpolation",
              "keyboard",
              "keyboard_pan_offset",
              "keyboard_zoom_offset",
              "max_zoom",
              "min_zoom",
              "prefer_canvas",
              "scroll_wheel_zoom",
              "tap",
              "tap_tolerance",
              "touch_zoom",
              "world_copy_jump",
              "zoom",
              "zoom_animation_threshold",
              "zoom_delta",
              "zoom_snap"
            ],
            "panes": {},
            "prefer_canvas": false,
            "right": 1217,
            "scroll_wheel_zoom": false,
            "south": -57.32652122521708,
            "style": "IPY_MODEL_ea8a7b64ae8e491c87a9776c1da80d05",
            "tap": true,
            "tap_tolerance": 15,
            "top": 312,
            "touch_zoom": true,
            "west": -247.50000000000003,
            "window_url": "https://w6cn4x1z3tj-496ff2e9c6d22116-0-colab.googleusercontent.com/outputframe.html?vrz=colab_20240919-060125_RC00_676352627",
            "world_copy_jump": false,
            "zoom": 2,
            "zoom_animation_threshold": 4,
            "zoom_delta": 1,
            "zoom_snap": 1
          }
        },
        "1cdaa70a56734e399568c52440dda033": {
          "model_module": "jupyter-leaflet",
          "model_name": "LeafletZoomControlModel",
          "model_module_version": "^0.19",
          "state": {
            "_model_module": "jupyter-leaflet",
            "_model_module_version": "^0.19",
            "_model_name": "LeafletZoomControlModel",
            "_view_count": null,
            "_view_module": "jupyter-leaflet",
            "_view_module_version": "^0.19",
            "_view_name": "LeafletZoomControlView",
            "options": [
              "position",
              "zoom_in_text",
              "zoom_in_title",
              "zoom_out_text",
              "zoom_out_title"
            ],
            "position": "topleft",
            "zoom_in_text": "+",
            "zoom_in_title": "Zoom in",
            "zoom_out_text": "-",
            "zoom_out_title": "Zoom out"
          }
        },
        "656ea13a3bd34d70bfddd8855d32d03e": {
          "model_module": "jupyter-leaflet",
          "model_name": "LeafletAttributionControlModel",
          "model_module_version": "^0.19",
          "state": {
            "_model_module": "jupyter-leaflet",
            "_model_module_version": "^0.19",
            "_model_name": "LeafletAttributionControlModel",
            "_view_count": null,
            "_view_module": "jupyter-leaflet",
            "_view_module_version": "^0.19",
            "_view_name": "LeafletAttributionControlView",
            "options": [
              "position",
              "prefix"
            ],
            "position": "bottomright",
            "prefix": "ipyleaflet"
          }
        },
        "06a82d357f744a0ead8e10abd712325b": {
          "model_module": "jupyter-leaflet",
          "model_name": "LeafletScaleControlModel",
          "model_module_version": "^0.19",
          "state": {
            "_model_module": "jupyter-leaflet",
            "_model_module_version": "^0.19",
            "_model_name": "LeafletScaleControlModel",
            "_view_count": null,
            "_view_module": "jupyter-leaflet",
            "_view_module_version": "^0.19",
            "_view_name": "LeafletScaleControlView",
            "imperial": true,
            "max_width": 100,
            "metric": true,
            "options": [
              "imperial",
              "max_width",
              "metric",
              "position",
              "update_when_idle"
            ],
            "position": "bottomleft",
            "update_when_idle": false
          }
        },
        "b1d19c6d9cf442b38073089bc58f901b": {
          "model_module": "jupyter-leaflet",
          "model_name": "LeafletMapStyleModel",
          "model_module_version": "^0.19",
          "state": {
            "_model_module": "jupyter-leaflet",
            "_model_module_version": "^0.19",
            "_model_name": "LeafletMapStyleModel",
            "_view_count": null,
            "_view_module": "@jupyter-widgets/base",
            "_view_module_version": "1.2.0",
            "_view_name": "StyleView",
            "cursor": "grab"
          }
        },
        "b5a300eca6f04650a36623dc1d854f82": {
          "model_module": "jupyter-leaflet",
          "model_name": "LeafletMapStyleModel",
          "model_module_version": "^0.19",
          "state": {
            "_model_module": "jupyter-leaflet",
            "_model_module_version": "^0.19",
            "_model_name": "LeafletMapStyleModel",
            "_view_count": null,
            "_view_module": "@jupyter-widgets/base",
            "_view_module_version": "1.2.0",
            "_view_name": "StyleView",
            "cursor": "move"
          }
        },
        "4a35f2c876884b25ab3984d006a81e7d": {
          "model_module": "jupyter-leaflet",
          "model_name": "LeafletTileLayerModel",
          "model_module_version": "^0.19",
          "state": {
            "_model_module": "jupyter-leaflet",
            "_model_module_version": "^0.19",
            "_model_name": "LeafletTileLayerModel",
            "_view_count": null,
            "_view_module": "jupyter-leaflet",
            "_view_module_version": "^0.19",
            "_view_name": "LeafletTileLayerView",
            "attribution": "&copy; <a href=\"https://www.openstreetmap.org/copyright\">OpenStreetMap</a> contributors",
            "base": true,
            "bottom": true,
            "bounds": null,
            "detect_retina": false,
            "loading": false,
            "max_native_zoom": null,
            "max_zoom": 19,
            "min_native_zoom": null,
            "min_zoom": 1,
            "name": "OpenStreetMap.Mapnik",
            "no_wrap": false,
            "opacity": 1,
            "options": [
              "attribution",
              "bounds",
              "detect_retina",
              "max_native_zoom",
              "max_zoom",
              "min_native_zoom",
              "min_zoom",
              "no_wrap",
              "tile_size",
              "tms",
              "zoom_offset"
            ],
            "pane": "",
            "popup": null,
            "popup_max_height": null,
            "popup_max_width": 300,
            "popup_min_width": 50,
            "show_loading": false,
            "subitems": [],
            "tile_size": 256,
            "tms": false,
            "url": "https://tile.openstreetmap.org/{z}/{x}/{y}.png",
            "visible": true,
            "zoom_offset": 0
          }
        },
        "74b50fbebbe84c7492e7e62d82a79ac2": {
          "model_module": "jupyter-leaflet",
          "model_name": "LeafletTileLayerModel",
          "model_module_version": "^0.19",
          "state": {
            "_model_module": "jupyter-leaflet",
            "_model_module_version": "^0.19",
            "_model_name": "LeafletTileLayerModel",
            "_view_count": null,
            "_view_module": "jupyter-leaflet",
            "_view_module_version": "^0.19",
            "_view_name": "LeafletTileLayerView",
            "attribution": "Map data: &copy; <a href=\"https://opentopomap.org\">OpenTopoMap</a> contributors",
            "base": false,
            "bottom": true,
            "bounds": null,
            "detect_retina": false,
            "loading": false,
            "max_native_zoom": null,
            "max_zoom": 18,
            "min_native_zoom": null,
            "min_zoom": 0,
            "name": "",
            "no_wrap": false,
            "opacity": 1,
            "options": [
              "attribution",
              "bounds",
              "detect_retina",
              "max_native_zoom",
              "max_zoom",
              "min_native_zoom",
              "min_zoom",
              "no_wrap",
              "tile_size",
              "tms",
              "zoom_offset"
            ],
            "pane": "",
            "popup": null,
            "popup_max_height": null,
            "popup_max_width": 300,
            "popup_min_width": 50,
            "show_loading": false,
            "subitems": [],
            "tile_size": 256,
            "tms": false,
            "url": "https://{s}.tile.opentopomap.org/{z}/{x}/{y}.png",
            "visible": true,
            "zoom_offset": 0
          }
        },
        "e3804b351e02492081e882d3f2efaa7f": {
          "model_module": "@jupyter-widgets/base",
          "model_name": "LayoutModel",
          "model_module_version": "1.2.0",
          "state": {
            "_model_module": "@jupyter-widgets/base",
            "_model_module_version": "1.2.0",
            "_model_name": "LayoutModel",
            "_view_count": null,
            "_view_module": "@jupyter-widgets/base",
            "_view_module_version": "1.2.0",
            "_view_name": "LayoutView",
            "align_content": null,
            "align_items": null,
            "align_self": null,
            "border": null,
            "bottom": null,
            "display": null,
            "flex": null,
            "flex_flow": null,
            "grid_area": null,
            "grid_auto_columns": null,
            "grid_auto_flow": null,
            "grid_auto_rows": null,
            "grid_column": null,
            "grid_gap": null,
            "grid_row": null,
            "grid_template_areas": null,
            "grid_template_columns": null,
            "grid_template_rows": null,
            "height": null,
            "justify_content": null,
            "justify_items": null,
            "left": null,
            "margin": null,
            "max_height": null,
            "max_width": null,
            "min_height": null,
            "min_width": null,
            "object_fit": null,
            "object_position": null,
            "order": null,
            "overflow": null,
            "overflow_x": null,
            "overflow_y": null,
            "padding": null,
            "right": null,
            "top": null,
            "visibility": null,
            "width": null
          }
        },
        "ea8a7b64ae8e491c87a9776c1da80d05": {
          "model_module": "jupyter-leaflet",
          "model_name": "LeafletMapStyleModel",
          "model_module_version": "^0.19",
          "state": {
            "_model_module": "jupyter-leaflet",
            "_model_module_version": "^0.19",
            "_model_name": "LeafletMapStyleModel",
            "_view_count": null,
            "_view_module": "@jupyter-widgets/base",
            "_view_module_version": "1.2.0",
            "_view_name": "StyleView",
            "cursor": "grab"
          }
        }
      }
    }
  },
  "cells": [
    {
      "cell_type": "code",
      "execution_count": null,
      "metadata": {
        "id": "ZsAcA2qvntK5"
      },
      "outputs": [],
      "source": [
        "!pip install geopandas\n",
        "!pip install folium\n",
        "!pip install ipyleaflet"
      ]
    },
    {
      "cell_type": "code",
      "source": [
        "import geopandas as gpd\n",
        "import matplotlib.pyplot as plt\n",
        "import requests\n",
        "import zipfile\n",
        "import io\n",
        "import folium\n",
        "from ipyleaflet import Map, TileLayer, ScaleControl\n",
        "import os"
      ],
      "metadata": {
        "id": "8D0DnpamsDur"
      },
      "execution_count": 27,
      "outputs": []
    },
    {
      "cell_type": "code",
      "source": [
        "# Function to load Natural Earth data\n",
        "def load_natural_earth_data():\n",
        "    try:\n",
        "        # Try to load using GeoPandas internal dataset method (for versions < 1.0)\n",
        "        world = gpd.read_file(gpd.datasets.get_path(\"naturalearth_lowres\"))\n",
        "        return world\n",
        "    except AttributeError:\n",
        "        # GeoPandas > 1.0 detected\n",
        "        print(\"GeoPandas > 1.0 detected, downloading dataset...\")\n",
        "\n",
        "        # Correct download URL for the Natural Earth dataset\n",
        "        url = \"https://naturalearth.s3.amazonaws.com/110m_cultural/ne_110m_admin_0_countries.zip\"\n",
        "\n",
        "        # Send HTTP request to download the file\n",
        "        response = requests.get(url)\n",
        "\n",
        "        # Unzip the downloaded content\n",
        "        with zipfile.ZipFile(io.BytesIO(response.content)) as z:\n",
        "            z.extractall(\"natural_earth_data\")\n",
        "\n",
        "        # Load the shapefile from the extracted content\n",
        "        shapefile_path = \"natural_earth_data/ne_110m_admin_0_countries.shp\"\n",
        "        world = gpd.read_file(shapefile_path)\n",
        "        return world"
      ],
      "metadata": {
        "id": "fvlC5fmNsOiS"
      },
      "execution_count": 24,
      "outputs": []
    },
    {
      "cell_type": "code",
      "source": [
        "# Load the dataset\n",
        "world = load_natural_earth_data()\n",
        "\n",
        "# Plot the world map\n",
        "world.plot()\n",
        "plt.title(\"World Map - Natural Earth Dataset\")\n",
        "plt.show()\n"
      ],
      "metadata": {
        "colab": {
          "base_uri": "https://localhost:8080/",
          "height": 339
        },
        "id": "B-pl6uQHsuAH",
        "outputId": "3d3acbeb-e1d5-4c9d-d141-058bb1833d2f"
      },
      "execution_count": 25,
      "outputs": [
        {
          "output_type": "stream",
          "name": "stdout",
          "text": [
            "GeoPandas > 1.0 detected, downloading dataset...\n"
          ]
        },
        {
          "output_type": "display_data",
          "data": {
            "text/plain": [
              "<Figure size 640x480 with 1 Axes>"
            ],
            "image/png": "[encoded data removed]"
          },
          "metadata": {}
        }
      ]
    },
    {
      "cell_type": "code",
      "source": [
        "# Clean up downloaded files\n",
        "def cleanup_downloaded_data():\n",
        "    if os.path.exists(\"natural_earth_data\"):\n",
        "        print(\"Cleaning up downloaded files...\")\n",
        "        for root, dirs, files in os.walk(\"natural_earth_data\", topdown=False):\n",
        "            for name in files:\n",
        "                os.remove(os.path.join(root, name))\n",
        "            for name in dirs:\n",
        "                os.rmdir(os.path.join(root, name))\n",
        "        os.rmdir(\"natural_earth_data\")"
      ],
      "metadata": {
        "id": "OhFom9mqswKr"
      },
      "execution_count": 26,
      "outputs": []
    },
    {
      "cell_type": "code",
      "source": [
        "# Function to create a Folium map\n",
        "def create_folium_map(location, zoom_start=10):\n",
        "    return folium.Map(location=location, zoom_start=zoom_start)\n",
        "\n",
        "# Create Folium maps for the USA and Boulder, Colorado\n",
        "usa_map = create_folium_map([37.0902, -95.7129], zoom_start=4)\n",
        "boulder_map = create_folium_map([40.015, -105.27], zoom_start=12)"
      ],
      "metadata": {
        "id": "KH_kDUAUtCrt"
      },
      "execution_count": 28,
      "outputs": []
    },
    {
      "cell_type": "code",
      "source": [
        "# Save the Folium maps as HTML files\n",
        "usa_map.save(\"Usa_map.html\")\n",
        "boulder_map.save(\"Boulder_map.html\")"
      ],
      "metadata": {
        "id": "c16jQrYbtSRb"
      },
      "execution_count": 29,
      "outputs": []
    },
    {
      "cell_type": "code",
      "source": [
        "# Notify the user about saved maps\n",
        "print(f\"USA map saved as Usa_map.html in {os.getcwd()}\")\n",
        "print(f\"Boulder map saved as Boulder_map.html in {os.getcwd()}\")"
      ],
      "metadata": {
        "colab": {
          "base_uri": "https://localhost:8080/"
        },
        "id": "u7ezHUPrtUSn",
        "outputId": "71207790-0cb4-4f10-8ad4-2231bac86530"
      },
      "execution_count": 30,
      "outputs": [
        {
          "output_type": "stream",
          "name": "stdout",
          "text": [
            "USA map saved as Usa_map.html in /content\n",
            "Boulder map saved as Boulder_map.html in /content\n"
          ]
        }
      ]
    },
    {
      "cell_type": "code",
      "source": [
        "# Create an ipyleaflet map with a default center and zoom level\n",
        "ipyleaflet_map = Map(center=(0, 0), zoom=2)"
      ],
      "metadata": {
        "id": "PIOXUTzztV_Y"
      },
      "execution_count": 31,
      "outputs": []
    },
    {
      "cell_type": "code",
      "source": [
        "# Add a topographic layer to the ipyleaflet map\n",
        "topo_layer = TileLayer(\n",
        "    url='https://{s}.tile.opentopomap.org/{z}/{x}/{y}.png',\n",
        "    attribution='Map data: &copy; <a href=\"https://opentopomap.org\">OpenTopoMap</a> contributors'\n",
        ")\n",
        "ipyleaflet_map.add_layer(topo_layer)"
      ],
      "metadata": {
        "id": "simlkjBPtYKr"
      },
      "execution_count": 32,
      "outputs": []
    },
    {
      "cell_type": "code",
      "source": [
        "# Add a scale control to the ipyleaflet map\n",
        "scale = ScaleControl(position='bottomleft')\n",
        "ipyleaflet_map.add_control(scale)\n",
        "\n",
        "# Display the ipyleaflet map\n",
        "ipyleaflet_map"
      ],
      "metadata": {
        "colab": {
          "base_uri": "https://localhost:8080/",
          "height": 421,
          "referenced_widgets": [
            "e611566609f24ce391949bd84887419c",
            "1cdaa70a56734e399568c52440dda033",
            "656ea13a3bd34d70bfddd8855d32d03e",
            "06a82d357f744a0ead8e10abd712325b",
            "b1d19c6d9cf442b38073089bc58f901b",
            "b5a300eca6f04650a36623dc1d854f82",
            "4a35f2c876884b25ab3984d006a81e7d",
            "74b50fbebbe84c7492e7e62d82a79ac2",
            "e3804b351e02492081e882d3f2efaa7f",
            "ea8a7b64ae8e491c87a9776c1da80d05"
          ]
        },
        "id": "0b1cjlSetZ_8",
        "outputId": "6bce56d6-eb80-4ae1-aeda-5c904f22e3d3"
      },
      "execution_count": 33,
      "outputs": [
        {
          "output_type": "display_data",
          "data": {
            "text/plain": [
              "Map(center=[0, 0], controls=(ZoomControl(options=['position', 'zoom_in_text', 'zoom_in_title', 'zoom_out_text'…"
            ],
            "application/vnd.jupyter.widget-view+json": {
              "version_major": 2,
              "version_minor": 0,
              "model_id": "e611566609f24ce391949bd84887419c"
            }
          },
          "metadata": {
            "application/vnd.jupyter.widget-view+json": {
              "colab": {
                "custom_widget_manager": {
                  "url": "https://ssl.gstatic.com/colaboratory-static/widgets/colab-cdn-widget-manager/2b70e893a8ba7c0f/manager.min.js"
                }
              }
            }
          }
        }
      ]
    },
    {
      "cell_type": "code",
      "source": [],
      "metadata": {
        "id": "267OR5wstc7w"
      },
      "execution_count": null,
      "outputs": []
    }
  ]
}